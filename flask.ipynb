{
 "cells": [
  {
   "cell_type": "code",
   "execution_count": 1,
   "metadata": {
    "scrolled": false
   },
   "outputs": [],
   "source": [
    "from flask import Flask,render_template,request,redirect,send_file\n",
    "import urllib.request as req\n",
    "from bs4 import BeautifulSoup\n",
    "import csv\n",
    "\n",
    "LIMIT=50\n",
    "\n",
    "def extract_indeed_pages(url):\n",
    "    result= req.urlopen(url)\n",
    "    soup = BeautifulSoup(result,\"html.parser\")\n",
    "    pagination=soup.find(\"div\",{\"class\":\"pagination\"})\n",
    "    links= pagination.findAll(\"a\")\n",
    "    pages= []\n",
    "    for link in links[:-1]:\n",
    "        pages.append(int(link.string))\n",
    "        max_page=pages[-1]\n",
    "    return max_page\n",
    "\n",
    "def extract_job(html):\n",
    "    title=html.find(\"a\",{\"class\":\"jobtitle\"})[\"title\"]\n",
    "    #company= html.find(\"span\",{\"class\":\"company\"}).get_text(strip=True)\n",
    "    loc=html.find(\"div\",{\"class\":\"recJobLoc\"})[\"data-rc-loc\"]\n",
    "    #if company is None:\n",
    "    #    company=None\n",
    "    company=html.find(\"span\",{\"class\":\"company\"})\n",
    "    if company:\n",
    "        company=str(company.string).strip()\n",
    "    else:\n",
    "        company=None\n",
    "       \n",
    "    job_id=html[\"data-jk\"]\n",
    "    link=f\"https://kr.indeed.com/%EC%B1%84%EC%9A%A9%EB%B3%B4%EA%B8%B0?jk={job_id}\"\n",
    "    return {'title':title,'company':company,'location':loc,\n",
    "            \"link\":link}\n",
    "\n",
    "def extract_indeed_jobs(last_page,url):\n",
    "   \n",
    "    jobs=[]\n",
    "    for page in range(last_page): \n",
    "        print(f\"scarapping indeed page {page}\")\n",
    "        result=req.urlopen(f\"{url}&start={page*LIMIT}\")\n",
    "        soup = BeautifulSoup(result,\"html.parser\")\n",
    "        results= soup.findAll(\"div\",{\"data-tn-component\":\"organicJob\"})\n",
    "        for res in results:\n",
    "            job=extract_job(res)\n",
    "            jobs.append(job)\n",
    "        \n",
    "    return jobs\n",
    "\n",
    "def get_indeed_jobs(word):\n",
    "    INDEED=f\"https://kr.indeed.com/%EC%B7%A8%EC%97%85?q={word}&limit={LIMIT}\"\n",
    "    last_page= extract_indeed_pages(INDEED)\n",
    "    jobs= extract_indeed_jobs(last_page,INDEED)\n",
    "    return jobs\n",
    "\n",
    "def save_to_file(jobs,word):\n",
    "    file= open(f\"{word}_jobs.csv\",encoding='utf-8-sig',mode=\"w\")\n",
    "    writer =csv.writer(file)\n",
    "    writer.writerow([\"title\",\"company\",\"location\",\"link\"])\n",
    "    for job in jobs:\n",
    "        writer.writerow(list(job.values()))\n",
    "    return print(\"done!\")"
   ]
  },
  {
   "cell_type": "code",
   "execution_count": null,
   "metadata": {
    "scrolled": false
   },
   "outputs": [
    {
     "name": "stdout",
     "output_type": "stream",
     "text": [
      " * Serving Flask app \"SuperScrapper\" (lazy loading)\n",
      " * Environment: production\n",
      "   WARNING: This is a development server. Do not use it in a production deployment.\n",
      "   Use a production WSGI server instead.\n",
      " * Debug mode: off\n"
     ]
    },
    {
     "name": "stderr",
     "output_type": "stream",
     "text": [
      " * Running on http://127.0.0.1:5000/ (Press CTRL+C to quit)\n",
      "127.0.0.1 - - [24/Jul/2020 15:15:18] \"\u001b[37mGET / HTTP/1.1\u001b[0m\" 200 -\n"
     ]
    },
    {
     "name": "stdout",
     "output_type": "stream",
     "text": [
      "scarapping indeed page 0\n",
      "scarapping indeed page 1\n",
      "scarapping indeed page 2\n",
      "scarapping indeed page 3\n",
      "scarapping indeed page 4\n",
      "scarapping indeed page 5\n",
      "scarapping indeed page 6\n"
     ]
    },
    {
     "name": "stderr",
     "output_type": "stream",
     "text": [
      "127.0.0.1 - - [24/Jul/2020 15:15:34] \"\u001b[37mGET /report?word=go HTTP/1.1\u001b[0m\" 200 -\n",
      "127.0.0.1 - - [24/Jul/2020 15:15:35] \"\u001b[37mGET /export?word=go HTTP/1.1\u001b[0m\" 200 -\n"
     ]
    },
    {
     "name": "stdout",
     "output_type": "stream",
     "text": [
      "done!\n",
      "scarapping indeed page 0\n",
      "scarapping indeed page 1\n",
      "scarapping indeed page 2\n",
      "scarapping indeed page 3\n",
      "scarapping indeed page 4\n",
      "scarapping indeed page 5\n",
      "scarapping indeed page 6\n",
      "scarapping indeed page 7\n",
      "scarapping indeed page 8\n",
      "scarapping indeed page 9\n",
      "scarapping indeed page 10\n",
      "scarapping indeed page 11\n",
      "scarapping indeed page 12\n",
      "scarapping indeed page 13\n",
      "scarapping indeed page 14\n",
      "scarapping indeed page 15\n",
      "scarapping indeed page 16\n"
     ]
    },
    {
     "name": "stderr",
     "output_type": "stream",
     "text": [
      "127.0.0.1 - - [24/Jul/2020 15:18:36] \"\u001b[37mGET /report?word=python HTTP/1.1\u001b[0m\" 200 -\n",
      "127.0.0.1 - - [24/Jul/2020 15:21:03] \"\u001b[37mGET /export?word=python HTTP/1.1\u001b[0m\" 200 -\n"
     ]
    },
    {
     "name": "stdout",
     "output_type": "stream",
     "text": [
      "done!\n"
     ]
    },
    {
     "name": "stderr",
     "output_type": "stream",
     "text": [
      "127.0.0.1 - - [24/Jul/2020 15:21:40] \"\u001b[37mGET / HTTP/1.1\u001b[0m\" 200 -\n"
     ]
    },
    {
     "name": "stdout",
     "output_type": "stream",
     "text": [
      "scarapping indeed page 0\n",
      "scarapping indeed page 1\n",
      "scarapping indeed page 2\n",
      "scarapping indeed page 3\n",
      "scarapping indeed page 4\n",
      "scarapping indeed page 5\n",
      "scarapping indeed page 6\n",
      "scarapping indeed page 7\n",
      "scarapping indeed page 8\n",
      "scarapping indeed page 9\n",
      "scarapping indeed page 10\n",
      "scarapping indeed page 11\n",
      "scarapping indeed page 12\n",
      "scarapping indeed page 13\n",
      "scarapping indeed page 14\n",
      "scarapping indeed page 15\n",
      "scarapping indeed page 16\n",
      "scarapping indeed page 17\n",
      "scarapping indeed page 18\n",
      "scarapping indeed page 19\n"
     ]
    },
    {
     "name": "stderr",
     "output_type": "stream",
     "text": [
      "127.0.0.1 - - [24/Jul/2020 15:22:21] \"\u001b[37mGET /report?word=c HTTP/1.1\u001b[0m\" 200 -\n",
      "127.0.0.1 - - [24/Jul/2020 15:23:29] \"\u001b[37mGET /export?word=c HTTP/1.1\u001b[0m\" 200 -\n"
     ]
    },
    {
     "name": "stdout",
     "output_type": "stream",
     "text": [
      "done!\n"
     ]
    },
    {
     "name": "stderr",
     "output_type": "stream",
     "text": [
      "127.0.0.1 - - [24/Jul/2020 15:24:48] \"\u001b[37mGET /report?word=python HTTP/1.1\u001b[0m\" 200 -\n"
     ]
    },
    {
     "name": "stdout",
     "output_type": "stream",
     "text": [
      "scarapping indeed page 0\n",
      "scarapping indeed page 1\n"
     ]
    },
    {
     "name": "stderr",
     "output_type": "stream",
     "text": [
      "127.0.0.1 - - [24/Jul/2020 15:24:56] \"\u001b[37mGET /report?word=vue HTTP/1.1\u001b[0m\" 200 -\n",
      "127.0.0.1 - - [24/Jul/2020 15:25:19] \"\u001b[37mGET /report?word=go HTTP/1.1\u001b[0m\" 200 -\n"
     ]
    },
    {
     "name": "stdout",
     "output_type": "stream",
     "text": [
      "scarapping indeed page 0\n",
      "scarapping indeed page 1\n",
      "scarapping indeed page 2\n",
      "scarapping indeed page 3\n",
      "scarapping indeed page 4\n",
      "scarapping indeed page 5\n",
      "scarapping indeed page 6\n",
      "scarapping indeed page 7\n",
      "scarapping indeed page 8\n",
      "scarapping indeed page 9\n",
      "scarapping indeed page 10\n",
      "scarapping indeed page 11\n",
      "scarapping indeed page 12\n",
      "scarapping indeed page 13\n",
      "scarapping indeed page 14\n",
      "scarapping indeed page 15\n",
      "scarapping indeed page 16\n",
      "scarapping indeed page 17\n",
      "scarapping indeed page 18\n",
      "scarapping indeed page 19\n"
     ]
    },
    {
     "name": "stderr",
     "output_type": "stream",
     "text": [
      "127.0.0.1 - - [24/Jul/2020 15:26:08] \"\u001b[37mGET /report?word=web HTTP/1.1\u001b[0m\" 200 -\n"
     ]
    }
   ],
   "source": [
    "app=Flask(\"SuperScrapper\")\n",
    "db={}\n",
    "\n",
    "@app.route(\"/\")\n",
    "def home():\n",
    "    return render_template(\"home.html\")\n",
    "@app.route(\"/report\")\n",
    "def report():\n",
    "    word= request.args.get('word')\n",
    "    if word:\n",
    "        word=word.lower()\n",
    "        fromDb =db.get(word)\n",
    "        if fromDb:\n",
    "            jobs=fromDb\n",
    "        else:\n",
    "            jobs=get_indeed_jobs(word)\n",
    "            db[word]=jobs\n",
    "    else:\n",
    "        return redirect(\"/\")\n",
    "    return render_template(\"report.html\",searchingBy=word,resultNumber=len(jobs),jobs=jobs)\n",
    "\n",
    "@app.route(\"/export\")\n",
    "def export():\n",
    "    try:\n",
    "        word=request.args.get('word')\n",
    "        if not word:\n",
    "            raise Exception()\n",
    "        word=word.lower()\n",
    "        jobs=db.get(word)\n",
    "        if not jobs:\n",
    "            raise Exception()\n",
    "        save_to_file(jobs,word)\n",
    "        return send_file(f\"{word}_jobs.csv\",as_attachment=True)\n",
    "    except:\n",
    "        return redirect(\"/\")\n",
    "    \n",
    "app.run(host=\"127.0.0.1\")"
   ]
  }
 ],
 "metadata": {
  "kernelspec": {
   "display_name": "Python 3",
   "language": "python",
   "name": "python3"
  },
  "language_info": {
   "codemirror_mode": {
    "name": "ipython",
    "version": 3
   },
   "file_extension": ".py",
   "mimetype": "text/x-python",
   "name": "python",
   "nbconvert_exporter": "python",
   "pygments_lexer": "ipython3",
   "version": "3.7.6"
  }
 },
 "nbformat": 4,
 "nbformat_minor": 4
}
